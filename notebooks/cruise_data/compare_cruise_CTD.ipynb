{
 "cells": [
  {
   "cell_type": "markdown",
   "metadata": {
    "collapsed": true
   },
   "source": [
    "## Compare shipboard CTD casts to data from OOI platforms downloaded from uFrame\n",
    "\n",
    "This example will walk you through comparing data downloaded via the OOI Cyberinfrastructure (uFrame) to shipboard CTD cast data. You will learn:\n",
    "\n",
    "* how to use the platform-to-CTD-cast mapping files in the OOI Datateam Database (https://github.com/seagrinch/data-team-python/tree/master/cruise_data)\n",
    "* how to access the shipboard CTD cast data files\n",
    "* how to download data from uFrame via the Machine-to-Machine API\n",
    "* how to explore and quickly plot the data\n",
    "\n",
    "Before getting started, login in at https://ooinet.oceanobservatories.org/ and obtain your API username and API token under your profile (top right corner), or use the credentials provided below."
   ]
  },
  {
   "cell_type": "code",
   "execution_count": 1,
   "metadata": {
    "collapsed": true
   },
   "outputs": [],
   "source": [
    "username = 'OOIAPI-D8S960UXPK4K03'\n",
    "token = 'IXL48EQ2XY'\n",
    "\n",
    "import pandas as pd\n",
    "import datetime\n",
    "from seabird.cnv import fCNV\n",
    "from geopy.distance import geodesic\n",
    "import requests\n",
    "import matplotlib.pyplot as plt"
   ]
  },
  {
   "cell_type": "markdown",
   "metadata": {},
   "source": [
    "First, specify the sensor (reference designator) and deployment of interest. For this example, we want to look at the beginning of the 2nd deployment of the CTD on the Global Irminger Sea Hybrid Profiler. If you want to look at the shipboard CTD casts that correspond with the recovery of a platform (instead of a deployment), indicate the activity below as 'recovery'. You can navigate to the information you will need for the data request in the [Data Team Database](http://ooi.visualocean.net/)."
   ]
  },
  {
   "cell_type": "code",
   "execution_count": 2,
   "metadata": {
    "collapsed": true
   },
   "outputs": [],
   "source": [
    "refdes = 'GI02HYPM-WFP02-04-CTDPFL000'\n",
    "activity = 'deployment' # or 'recovery'\n",
    "deployment = 2"
   ]
  },
  {
   "cell_type": "markdown",
   "metadata": {},
   "source": [
    "Import the cruise mapping files from the Data Team Database (https://github.com/seagrinch/data-team-python/tree/master/cruise_data) and filter the platform-to-CTD-mapping table for the platform and deployment of interest.\n",
    "\n",
    "* <i>platform_CTDcast_mapping.csv</i> lists each deployment and recovery by platform; the latitude, longitude, cruise ID (CUID) and date from the [OOI Asset Management repo](https://github.com/ooi-integration/asset-management/tree/master/deployment); along with the cruise name (and leg, if applicable) and the CTD cast number(s) that correspond with the deployment/recovery of the platform. <b>Note</b>: the CTD cast information was gathered from cruise reports and is currently only complete for Pioneer and Global platforms.\n",
    "\n",
    "\n",
    "* <i>cruise_CTDs.csv</i> lists each shipboard CTD cast for each cruise, the date and location of the cast, the path to the Sea-Bird * .cnv file (if available), and the paths to the oxygen and salt data processed on the ship. The format is used for internal purposes and assumes you have a server connection to alfresco.ooi.rutgers.edu on your local machine (/Volumes/webdav/OOI/...), however users without a password can access the data files in [Alfresco](https://alfresco.oceanobservatories.org/)."
   ]
  },
  {
   "cell_type": "code",
   "execution_count": null,
   "metadata": {
    "collapsed": true
   },
   "outputs": [],
   "source": [
    "cruisedata_repo = 'https://raw.githubusercontent.com/seagrinch/data-team-python/master/cruise_data'\n",
    "platform_CTD_map = pd.read_csv('/'.join((cruisedata_repo, 'platform_CTDcast_mapping.csv'))).fillna('')\n",
    "\n",
    "# Filter the platform-to-CTD-mapping table for the platform and deployment of interest\n",
    "rd = refdes.split('-')\n",
    "if activity == 'deployment':\n",
    "    dd = ''.join(('D', '%05d' % deployment))\n",
    "if activity == 'recovery':\n",
    "    dd = ''.join(('R', '%05d' % deployment))\n",
    "    \n",
    "platform_deploy_info = platform_CTD_map.loc[(platform_CTD_map.platform == rd[0]) & (platform_CTD_map.Deployment == dd)]\n",
    "platform_deploy_info\n"
   ]
  },
  {
   "cell_type": "markdown",
   "metadata": {},
   "source": [
    "The mapping file shows that shipboard CTD cast # 12 on cruise AT-30-01 was done at the time of the 2nd deployment of the Irminger Hybrid Profiler (GI02HYPM). <i>Note: some platform deployments have multiple possible CTD casts associated with them, for others, no CTD casts were identified in the cruise reports.</i> Now, we will use the <i>cruise_CTDs.csv</i> file to get the information for that particular CTD cast."
   ]
  },
  {
   "cell_type": "code",
   "execution_count": null,
   "metadata": {
    "collapsed": true
   },
   "outputs": [],
   "source": [
    "cruise = platform_deploy_info.iloc[0]['CTD_CruiseName']\n",
    "leg = platform_deploy_info.iloc[0]['CTD_CruiseLeg']\n",
    "cast = platform_deploy_info.iloc[0]['CTDcast']\n",
    "\n",
    "CTDcasts = pd.read_csv('/'.join((cruisedata_repo, 'cruise_CTDs.csv'))).fillna('')\n",
    "\n",
    "# select the information from the CTD cast identified in the mapping table\n",
    "CTDcast_info = CTDcasts.loc[(CTDcasts.CTD_CruiseName == cruise) & (CTDcasts.CTD_CruiseLeg == leg) & (CTDcasts.CTDcast == str(cast))]\n",
    "CTDcast_info                                                                    "
   ]
  },
  {
   "cell_type": "code",
   "execution_count": null,
   "metadata": {
    "collapsed": true
   },
   "outputs": [],
   "source": [
    "cnv_filepath = ''.join([CTDcast_info.iloc[0]['filepath_primary'], CTDcast_info.iloc[0]['CTD_rawdata_filepath']])\n",
    "'Shipboard CTD filepath: {}'.format(cnv_filepath)"
   ]
  },
  {
   "cell_type": "markdown",
   "metadata": {},
   "source": [
    "Navigate to the location of the Sea-Bird .cnv data file for CTD cast # 12 in [Alfresco](https://alfresco.oceanobservatories.org/) and download the file to your local machine.\n",
    "\n",
    "![cnv_file_location](../../images/cnv_file_location.png)"
   ]
  },
  {
   "cell_type": "code",
   "execution_count": null,
   "metadata": {
    "collapsed": true
   },
   "outputs": [],
   "source": [
    "# We will use a package that was written to work with Sea-Bird *.cnv files called seabird. The function to open the \n",
    "# *.cnv file is fCNV(<file>). Per the author: 'this is not an official package, so if you have trouble with it, \n",
    "# do not complain to Sea-Bird.'\n",
    "# https://github.com/castelao/seabird\n",
    "\n",
    "f = '/Users/lgarzio/Documents/OOI/CruiseData/at30_012.cnv' # change this filepath\n",
    "ctddata = fCNV(f)\n",
    "ctddata.attributes # list the attributes from the file"
   ]
  },
  {
   "cell_type": "code",
   "execution_count": null,
   "metadata": {
    "collapsed": true
   },
   "outputs": [],
   "source": [
    "# We can grab the location of the profiler mooring from the Asset Management information table above \n",
    "# ('platform_deploy_info') and compare it to the attributes from the shipboard CTD file. This will show us how close\n",
    "# the CTD cast was done to the profiler mooring. In this case, we're calculating the distance in kilometers.\n",
    "\n",
    "platform_loc = [platform_deploy_info.iloc[0]['lat'], platform_deploy_info.iloc[0]['lon']]\n",
    "ctd_cast_loc = [ctddata.attributes['LATITUDE'], ctddata.attributes['LONGITUDE']]\n",
    "geodesic(platform_loc, ctd_cast_loc).kilometers"
   ]
  },
  {
   "cell_type": "code",
   "execution_count": null,
   "metadata": {
    "collapsed": true
   },
   "outputs": [],
   "source": [
    "ctddata.keys() # list the variables in the .cnv file"
   ]
  },
  {
   "cell_type": "code",
   "execution_count": 9,
   "metadata": {
    "collapsed": false
   },
   "outputs": [],
   "source": [
    "# Select the data from the shipboard CTD file that you would like to plot. In this example, we will select pressure\n",
    "# and temperature to create a profile plot.\n",
    "\n",
    "ctd_cast_pres = ctddata['PRES'].data\n",
    "ctd_cast_temp = ctddata['TEMP'].data\n",
    "ctd_cast_sal = ctddata['PSAL'].data"
   ]
  },
  {
   "cell_type": "markdown",
   "metadata": {},
   "source": [
    "We already know the reference designator for the data request, however we also need to select the delivery method and data stream. You can navigate to the information you will need for the data request in the [Data Team Database](http://ooi.visualocean.net/). We will request the recovered data from the science data stream, highlighted below.\n",
    "\n",
    "![GI02HYPM-WFP02-04-CTDPFL000](../../images/GI02HYPM-WFP02-04-CTDPFL000.png)"
   ]
  },
  {
   "cell_type": "code",
   "execution_count": null,
   "metadata": {
    "collapsed": true
   },
   "outputs": [],
   "source": [
    "API_BASE_URL = 'https://ooinet.oceanobservatories.org/api/m2m/12576/sensor/inv/'\n",
    "method = 'recovered_wfp'\n",
    "stream = 'ctdpf_ckl_wfp_instrument_recovered'\n",
    "\n",
    "request_url = '{:s}{:s}/{:s}/{:s}-{:s}/{:s}/{:s}'.format(API_BASE_URL, rd[0], rd[1], rd[2], rd[3], method, stream)\n",
    "\n",
    "# We only want data from the same date as the shipboard CTD cast,so we can specify the start and end date for the \n",
    "# data request in the params, as well as limit the request to return 1,000 data points.\n",
    "\n",
    "params = {\n",
    "    'beginDT': ctddata.attributes['datetime'].strftime('%Y-%m-%dT00:00:00.000Z'),\n",
    "    'endDT': (ctddata.attributes['datetime'] + datetime.timedelta(days=1)).strftime('%Y-%m-%dT00:00:00.000Z'),\n",
    "    'limit': 1000\n",
    "}\n",
    "\n",
    "# Send the data request, this may take several seconds\n",
    "r = requests.get(request_url, params=params, auth=(username, token))\n",
    "\n",
    "if r.status_code != 200: # if the request fails\n",
    "    print r.json()['message']\n",
    "elif r.status_code == 200: # if the request is successful\n",
    "    uframe_data = r.json()\n",
    "    print 'Request successful!'"
   ]
  },
  {
   "cell_type": "code",
   "execution_count": null,
   "metadata": {
    "collapsed": true
   },
   "outputs": [],
   "source": [
    "# list the parameter names\n",
    "uframe_data[0].keys()"
   ]
  },
  {
   "cell_type": "markdown",
   "metadata": {
    "collapsed": true
   },
   "source": [
    "Now, we want to go through each element of the JSON response and build lists containing the data we want. If you're unsure about the names of the parameters listed above, click on the stream name in the [Data Team Database](http://ooi.visualocean.net/) highlighted in the image above for more information. Alternatively, you can download a netCDF file that has descriptive parameter attributes through https://ooinet.oceanobservatories.org/ or via the API (as outlined in other notebooks in this repo)."
   ]
  },
  {
   "cell_type": "code",
   "execution_count": null,
   "metadata": {
    "collapsed": true
   },
   "outputs": [],
   "source": [
    "uframe_time = []\n",
    "uframe_pres = []\n",
    "uframe_temp = []\n",
    "uframe_sal = []\n",
    "\n",
    "# Function to convert seconds to datetime\n",
    "def ntp_seconds_to_datetime(ntp_seconds):\n",
    "    ntp_epoch = datetime.datetime(1900, 1, 1)\n",
    "    unix_epoch = datetime.datetime(1970, 1, 1)\n",
    "    ntp_delta = (unix_epoch - ntp_epoch).total_seconds()\n",
    "    return datetime.datetime.utcfromtimestamp(ntp_seconds - ntp_delta).replace(microsecond=0)\n",
    "\n",
    "for i in range(len(uframe_data)):\n",
    "    uframe_time.append(ntp_seconds_to_datetime(uframe_data[i]['time']))\n",
    "    uframe_pres.append(uframe_data[i]['ctdpf_ckl_seawater_pressure'])\n",
    "    uframe_temp.append(uframe_data[i]['ctdpf_ckl_seawater_temperature'])\n",
    "    uframe_sal.append(uframe_data[i]['practical_salinity'])\n",
    "\n",
    "# Check the time range of the data received\n",
    "print 'uFrame data time range: {} to {}'.format(min(uframe_time).strftime('%Y-%m-%dT%H:%M:%SZ'), \n",
    "                                                max(uframe_time).strftime('%Y-%m-%dT%H:%M:%SZ'))\n",
    "\n",
    "# Reminder of the time of the shipboard CTD cast\n",
    "print 'Shipboard CTD cast time: {}'.format(ctddata.attributes['datetime'].strftime('%Y-%m-%dT%H:%M:%SZ'))"
   ]
  },
  {
   "cell_type": "markdown",
   "metadata": {},
   "source": [
    "In this case, the data time ranges don't overlap exactly, but it should be close enough to make a general comparison. Now we can plot the data."
   ]
  },
  {
   "cell_type": "code",
   "execution_count": 14,
   "metadata": {
    "collapsed": false
   },
   "outputs": [
    {
     "data": {
      "image/png": "[encoded data removed]",
      "text/plain": [
       "<matplotlib.figure.Figure at 0x10ce0ad50>"
      ]
     },
     "metadata": {},
     "output_type": "display_data"
    }
   ],
   "source": [
    "fig, (ax1, ax2) = plt.subplots(1, 2, sharey=True)\n",
    "ax1.plot(ctd_cast_temp, ctd_cast_pres, 'b', label='Cruise CTD')\n",
    "ax1.plot(uframe_temp, uframe_pres, 'r.', label='Profiler')\n",
    "ax1.set_ylabel('Pressure (dbar)')\n",
    "ax1.set_xlabel('Temperature (deg C)')\n",
    "ax1.invert_yaxis()\n",
    "ax1.grid()\n",
    "ax1.legend(loc='best')\n",
    "\n",
    "ax2.plot(ctd_cast_sal, ctd_cast_pres, 'b')\n",
    "ax2.plot(uframe_sal, uframe_pres, 'r.')\n",
    "ax2.set_ylabel('Pressure (dbar)')\n",
    "ax2.set_xlabel('Practical Salinity')\n",
    "ax2.grid()\n",
    "\n",
    "fig.suptitle('{} vs. Shipboard CTD'.format(refdes), fontsize=10)\n",
    "fig.subplots_adjust(top=0.9)\n",
    "plt.show()"
   ]
  }
 ],
 "metadata": {
  "kernelspec": {
   "display_name": "Python 2",
   "language": "python",
   "name": "python2"
  },
  "language_info": {
   "codemirror_mode": {
    "name": "ipython",
    "version": 2
   },
   "file_extension": ".py",
   "mimetype": "text/x-python",
   "name": "python",
   "nbconvert_exporter": "python",
   "pygments_lexer": "ipython2",
   "version": "2.7.13"
  }
 },
 "nbformat": 4,
 "nbformat_minor": 0
}
