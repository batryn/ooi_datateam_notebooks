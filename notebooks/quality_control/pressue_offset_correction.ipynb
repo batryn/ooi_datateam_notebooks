{
 "cells": [
  {
   "cell_type": "markdown",
   "metadata": {
    "slideshow": {
     "slide_type": "slide"
    }
   },
   "source": [
    "# <center>OOI Seabird Druck Pressure Correction</center>"
   ]
  },
  {
   "cell_type": "code",
   "execution_count": 2,
   "metadata": {
    "slideshow": {
     "slide_type": "slide"
    }
   },
   "outputs": [
    {
     "data": {
      "text/html": [
       "\n",
       "        <iframe\n",
       "            width=\"100%\"\n",
       "            height=\"1200\"\n",
       "            src=\"../../images/seabird_druck.pdf\"\n",
       "            frameborder=\"0\"\n",
       "            allowfullscreen\n",
       "        ></iframe>\n",
       "        "
      ],
      "text/plain": [
       "<IPython.lib.display.IFrame at 0x1125d4ac8>"
      ]
     },
     "execution_count": 2,
     "metadata": {},
     "output_type": "execute_result"
    }
   ],
   "source": [
    "from IPython.display import IFrame, display, HTML\n",
    "IFrame(\"../../images/seabird_druck.pdf\", width=\"100%\", height=1200)"
   ]
  },
  {
   "cell_type": "markdown",
   "metadata": {},
   "source": [
    "### <center>Pressure Offset at Axial Base Seafloor CTD</center>\n",
    "\n",
    "![po](../../images/pressure_offset.png)"
   ]
  },
  {
   "cell_type": "code",
   "execution_count": 3,
   "metadata": {
    "slideshow": {
     "slide_type": "slide"
    }
   },
   "outputs": [
    {
     "data": {
      "text/html": [
       "\n",
       "        <iframe\n",
       "            width=\"100%\"\n",
       "            height=\"1200\"\n",
       "            src=\"../../images/offset_corrections.pdf\"\n",
       "            frameborder=\"0\"\n",
       "            allowfullscreen\n",
       "        ></iframe>\n",
       "        "
      ],
      "text/plain": [
       "<IPython.lib.display.IFrame at 0x1125d4630>"
      ]
     },
     "execution_count": 3,
     "metadata": {},
     "output_type": "execute_result"
    }
   ],
   "source": [
    "IFrame(\"../../images/offset_corrections.pdf\", width=\"100%\", height=1200)"
   ]
  },
  {
   "cell_type": "markdown",
   "metadata": {
    "slideshow": {
     "slide_type": "slide"
    }
   },
   "source": [
    "### <center>Pressure Offset at Axial Base Seafloor CTD</center>\n",
    "<center><img src=\"../../images/pressure_offset.png\" alt=\"Drawing\" style=\"width: 1200px;\"/></center>"
   ]
  },
  {
   "cell_type": "markdown",
   "metadata": {
    "slideshow": {
     "slide_type": "fragment"
    }
   },
   "source": [
    "### <center>Corrected Pressure Offset at Axial Base Seafloor CTD</center>\n",
    "<center><img src=\"../../images/corrected_pressure_offset.png\" alt=\"Drawing\" style=\"width: 1200px;\"/></center>"
   ]
  },
  {
   "cell_type": "markdown",
   "metadata": {
    "slideshow": {
     "slide_type": "fragment"
    }
   },
   "source": [
    "#### <center>Link to Data Portal <br> <br> </center>\n",
    "<center>https://ooinet.oceanobservatories.org/data_access/#RS03AXBS-LJ03A-12-CTDPFB301/streamed_ctdpf-optode-sample</center>"
   ]
  },
  {
   "cell_type": "markdown",
   "metadata": {
    "slideshow": {
     "slide_type": "slide"
    }
   },
   "source": [
    "### <center>Full analysis for all affected sensors available at: <br> <br> </center>\n",
    "<center>https://github.com/friedrichknuth/ooi_data_analysis/tree/master/ctd/pressure_offset</center>"
   ]
  },
  {
   "cell_type": "code",
   "execution_count": 4,
   "metadata": {
    "slideshow": {
     "slide_type": "slide"
    }
   },
   "outputs": [],
   "source": [
    "import requests\n",
    "import datetime\n",
    "import pandas as pd"
   ]
  },
  {
   "cell_type": "code",
   "execution_count": 5,
   "metadata": {
    "slideshow": {
     "slide_type": "fragment"
    }
   },
   "outputs": [],
   "source": [
    "username = 'OOIAPI-D8S960UXPK4K03'\n",
    "token = 'IXL48EQ2XY'\n",
    "\n",
    "subsite = 'RS03AXBS'\n",
    "node = 'LJ03A'\n",
    "sensor = '12-CTDPFB301'\n",
    "method = 'streamed'\n",
    "stream = 'ctdpf_optode_sample'\n",
    "beginDT = '2015-05-13T01:01:01.500Z'\n",
    "endDT = '2015-08-13T01:01:01.500Z'"
   ]
  },
  {
   "cell_type": "code",
   "execution_count": 6,
   "metadata": {
    "slideshow": {
     "slide_type": "fragment"
    }
   },
   "outputs": [],
   "source": [
    "base_url = 'https://ooinet.oceanobservatories.org/api/m2m/12587/events/deployment/inv/'\n",
    "\n",
    "asset_info_url ='/'.join((base_url, subsite, node, sensor, '-1'))\n",
    "\n",
    "r = requests.get(asset_info_url,auth=(username, token))\n",
    "asset_info = r.json()"
   ]
  },
  {
   "cell_type": "code",
   "execution_count": 7,
   "metadata": {
    "slideshow": {
     "slide_type": "fragment"
    }
   },
   "outputs": [],
   "source": [
    "ref_des_list = []\n",
    "start_time_list = []\n",
    "end_time_list = []\n",
    "deployment_list = [] \n",
    "uid_list = []\n",
    "serial_list = []"
   ]
  },
  {
   "cell_type": "code",
   "execution_count": 8,
   "metadata": {
    "slideshow": {
     "slide_type": "slide"
    }
   },
   "outputs": [],
   "source": [
    "for i in range(len(asset_info)):\n",
    "    refdes = asset_info[i]['referenceDesignator']\n",
    "    ref_des_list.append(refdes)\n",
    "\n",
    "    deployment = asset_info[i]['deploymentNumber']\n",
    "    deployment_list.append(deployment)\n",
    "\n",
    "    start = asset_info[i]['eventStartTime']\n",
    "    end = asset_info[i]['eventStopTime']\n",
    "\n",
    "    try:\n",
    "        start_time = datetime.datetime.utcfromtimestamp(start/1000.0)\n",
    "        start_time_list.append(start_time)\n",
    "\n",
    "        end_time = datetime.datetime.utcfromtimestamp(end/1000.0)\n",
    "        end_time_list.append(end_time)\n",
    "\n",
    "    except:\n",
    "        end_time = datetime.datetime.utcnow()\n",
    "        end_time_list.append(end_time)\n",
    "    \n",
    "    uid = asset_info[i]['sensor']['calibration'][0]['calData'][0]['assetUid']\n",
    "    uid_list.append(uid)\n",
    "    \n",
    "    serial = asset_info[i]['sensor']['serialNumber']\n",
    "    serial_list.append(serial)"
   ]
  },
  {
   "cell_type": "code",
   "execution_count": 9,
   "metadata": {
    "slideshow": {
     "slide_type": "fragment"
    }
   },
   "outputs": [],
   "source": [
    "data_dict = {\n",
    "    'refdes':ref_des_list,\n",
    "    'deployment':deployment_list,\n",
    "    'start_time':start_time_list,\n",
    "    'end_time':end_time_list,\n",
    "    'uid':uid_list,\n",
    "    'serial':serial_list}"
   ]
  },
  {
   "cell_type": "code",
   "execution_count": 10,
   "metadata": {
    "slideshow": {
     "slide_type": "slide"
    }
   },
   "outputs": [
    {
     "name": "stdout",
     "output_type": "stream",
     "text": [
      "                        refdes    serial                uid  deployment          start_time                   end_time\n",
      "0  RS03AXBS-LJ03A-12-CTDPFB301  16-50031  ATAPL-67627-00003           1 2014-08-07 17:45:00 2015-06-13 00:00:00.000000\n",
      "1  RS03AXBS-LJ03A-12-CTDPFB301  16-50128  ATAPL-67627-00005           2 2015-07-13 05:43:00 2016-07-11 00:00:00.000000\n",
      "2  RS03AXBS-LJ03A-12-CTDPFB301  16-50031  ATAPL-67627-00003           3 2016-07-12 00:00:00 2017-07-31 01:00:00.000000\n",
      "3  RS03AXBS-LJ03A-12-CTDPFB301  16-50128  ATAPL-67627-00005           4 2017-07-31 22:30:00 2018-05-15 17:44:03.242358\n"
     ]
    }
   ],
   "source": [
    "deployment_data = pd.DataFrame(data_dict, columns = ['refdes', 'serial', 'uid', 'deployment','start_time', 'end_time'])\n",
    "\n",
    "pd.set_option('display.height', 1000)\n",
    "pd.set_option('display.width', 1000)\n",
    "\n",
    "print(deployment_data)"
   ]
  },
  {
   "cell_type": "markdown",
   "metadata": {
    "slideshow": {
     "slide_type": "fragment"
    }
   },
   "source": [
    "<img src=\"../../images/seabird_druck_affected_serials.png\" alt=\"Drawing\" style=\"width: 900px;\"/>\n",
    "\n",
    "<img src=\"../../images/RS03AXBS-LJ03A-12-CTDPFB301.png\" alt=\"Drawing\" style=\"width: 2000px;\"/>"
   ]
  },
  {
   "cell_type": "markdown",
   "metadata": {
    "slideshow": {
     "slide_type": "slide"
    }
   },
   "source": [
    "### <center>Analysis for Deployment 2 of RS03AXBS-LJ03A-12-CTDPFB301: <br> <br> </center>\n",
    "<center>https://github.com/friedrichknuth/ooi_data_analysis/blob/master/ctd/pressure_offset/notebooks/RS03AXBS-LJ03A-12-CTDPFB301_d2.ipynb</center>\n",
    "\n"
   ]
  }
 ],
 "metadata": {
  "celltoolbar": "Slideshow",
  "kernelspec": {
   "display_name": "ooi",
   "language": "python",
   "name": "ooi"
  },
  "language_info": {
   "codemirror_mode": {
    "name": "ipython",
    "version": 3
   },
   "file_extension": ".py",
   "mimetype": "text/x-python",
   "name": "python",
   "nbconvert_exporter": "python",
   "pygments_lexer": "ipython3",
   "version": "3.6.5"
  }
 },
 "nbformat": 4,
 "nbformat_minor": 2
}
